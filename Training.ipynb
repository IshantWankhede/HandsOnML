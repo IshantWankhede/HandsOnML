{
 "cells": [
  {
   "cell_type": "markdown",
   "metadata": {},
   "source": [
    "## Training models\n",
    "\n",
    "In this chapter we will start with linear regression, We will discuss two different ways to train it,\n",
    "+ Using a direct \"closed-form\" equation that directly computes the model paramters that best fit the model to training set. (i.e. , the model parameters that minimize the cost function over the training set.)\n",
    "+ Using a iterative optimization approach, called Gradient Descent, that gradually tweaks the model parameters to minimize the cost function over the training set,eventually converging to the same set of parameters as the first method.\n",
    "\n",
    "Next we will look at Polynomial Regression, a more complex model that can fit nonlinear datasets.\n",
    "\n",
    "Finally we will look at two more models that are commonly used for classification, Logistic Regression and Softmax Regression."
   ]
  },
  {
   "cell_type": "markdown",
   "metadata": {},
   "source": [
    "### Linear Regression\n",
    "\n",
    "Vectorised form : y_hat = h_theta(X) = theta_transpose[1,n] * X[n,1].\n",
    "Training the model means setting the parameters(theta). For this we need a measure of how well (or poorly) the model fits the training data. RMSE or MSE can be minimized to find the best thetha.\n",
    "<!-- \\begin{equation*}\n",
    "\\left( \\sum_{k=1}^n a_k b_k \\right)^2 \\leq \\left( \\sum_{k=1}^n a_k^2 \\right) \\left( \\sum_{k=1}^n b_k^2 \\right)\n",
    "\\end{equation*} \n",
    "-->\n",
    "\n",
    "The Normal Equation\n",
    "theta_hat = (X_transpose * X)^-1 * (X_transpose) * y"
   ]
  },
  {
   "cell_type": "code",
   "execution_count": 1,
   "metadata": {
    "scrolled": true
   },
   "outputs": [
    {
     "data": {
      "image/png": "[encoded data removed]",
      "text/plain": [
       "<Figure size 432x288 with 1 Axes>"
      ]
     },
     "metadata": {},
     "output_type": "display_data"
    }
   ],
   "source": [
    "# Let us generate some linear looking data\n",
    "import numpy as np\n",
    "X = 2 * np.random.rand(100,1)\n",
    "y = 4 + 3*X + np.random.randn(100,1)\n",
    "\n",
    "%matplotlib inline\n",
    "import matplotlib.pyplot as plt\n",
    "plt.plot(X,y,'bo')\n",
    "plt.show()"
   ]
  },
  {
   "cell_type": "code",
   "execution_count": 2,
   "metadata": {},
   "outputs": [
    {
     "name": "stdout",
     "output_type": "stream",
     "text": [
      "[[3.96660547]\n",
      " [3.12760372]]\n"
     ]
    },
    {
     "data": {
      "image/png": "[encoded data removed]",
      "text/plain": [
       "<Figure size 432x288 with 1 Axes>"
      ]
     },
     "metadata": {},
     "output_type": "display_data"
    }
   ],
   "source": [
    "# Using the Normal equation finding theta_hat\n",
    "X_b = np.c_[np.ones((100, 1)), X] # add x0 = 1 to each instance\n",
    "theta_best = np.linalg.inv(X_b.T.dot(X_b)).dot(X_b.T).dot(y)\n",
    "# Function generated was y = 4 + 3X + White Noise.\n",
    "# theta_best : [4.23524939], [2.8365066 ]\n",
    "print(theta_best)\n",
    "\n",
    "# In order to make predicts now,\n",
    "X_new = np.array([[0],[2]])\n",
    "X_new_b = np.c_[np.ones((2,1)), X_new] # add x0 = 1 to each instance\n",
    "y_predict = X_new_b.dot(theta_best)\n",
    "y_predict\n",
    "\n",
    "plt.plot(X_new, y_predict, \"r-\")\n",
    "plt.plot(X, y, \"b.\")\n",
    "plt.axis([0, 2, 0, 15])\n",
    "plt.show()"
   ]
  },
  {
   "cell_type": "code",
   "execution_count": 3,
   "metadata": {},
   "outputs": [
    {
     "data": {
      "text/plain": [
       "array([[ 3.96660547],\n",
       "       [10.22181291]])"
      ]
     },
     "execution_count": 3,
     "metadata": {},
     "output_type": "execute_result"
    }
   ],
   "source": [
    "# Equivalent sci-kit learn\n",
    "from sklearn.linear_model import LinearRegression\n",
    "lin_reg = LinearRegression()\n",
    "lin_reg.fit(X, y)\n",
    "lin_reg.intercept_, lin_reg.coef_\n",
    "lin_reg.predict(X_new)"
   ]
  },
  {
   "cell_type": "markdown",
   "metadata": {},
   "source": [
    "### Time Complexity\n",
    "The normal equation computes the inverse of X_transpose * X which is an n X n matrix (n number of features). The computational complexity of inverting such a matrix is O(n^2.4) to O(n^3). If you double the number of features the training time increases 8 times.\n",
    "On the positive side, this equation is linear with regards to the number of instances in the training set (it is O(m)), so it handles large data efficiently provided it has sufficient memory.\n",
    "After training is done predictions are faster.\n",
    "\n",
    "Now we will look at very different ways to train a Linear Regression model, better suited for cases\n",
    "where there are a large number of features, or too many training instances to fit in memory.\n",
    "\n",
    "### Gradient Descent\n",
    "Gradient descent is a very generic optimization problem to a wide range of problems. The idea is to tweak the parameters iteratively till you minimize the cost function. It measures the local gradient of the error function with regards to the parameter vector θ, and it goes in the direction of descending gradient. Once the gradient is zero, you have reached a minimum!\n",
    "\n",
    "You start by filing θ with random values (this is called random initialization), and then you improve it gradually, taking one baby step at a time, each step attempting to decrease the cost function (e.g the MSE), until the algorithm converges to a minimum.\n",
    "\n",
    "![](GD_start.png)\n",
    "\n",
    "An important parameter in Gradient Descent is the size of the steps, determined by the learning rate hyperparameter. If the learning rate is too small, then the algorithm will have to go through many iterations to converge, which will take a long time\n",
    "\n",
    "![](GD_slow.png)\n",
    "\n",
    "On the other hand, if the learning rate is too high, you might jump across the valley and end up on the other side, possibly even higher up than you were before. This might make the algorithm diverge, with larger and larger values, failing to find a good solution\n",
    "\n",
    "![](GD_fast.png)\n",
    "\n",
    "Finally, not all cost functions look like nice regular bowls. There may be holes, ridges, plateaus, and all\n",
    "sorts of irregular terrains, making convergence to the minimum very difficult. Two main challenges with Gradient Descent: if the random initialization starts the algorithm on the left, then it will converge to a local minimum, which is not as good as the global minimum. If it starts on the right, then it will take a very long time to cross the plateau, and if you stop too early you will never reach the global minimum.\n",
    "\n",
    "![](GD_fast.png)\n",
    "\n",
    "Fortunately, the MSE cost function for a Linear Regression model happens to be a convex function, which\n",
    "means that if you pick any two points on the curve, the line segment joining them never crosses the curve.\n",
    "This implies that there are no local minima, just one global minimum. It is also a continuous function with\n",
    "a slope that never changes abruptly. These two facts have a great consequence: Gradient Descent is\n",
    "guaranteed to approach arbitrarily close the global minimum (if you wait long enough and if the learning\n",
    "rate is not too high).\n",
    "In fact, the cost function has the shape of a bowl, but it can be an elongated bowl if the features have very\n",
    "different scales."
   ]
  },
  {
   "cell_type": "code",
   "execution_count": 4,
   "metadata": {},
   "outputs": [
    {
     "data": {
      "text/plain": [
       "array([[3.8951324 ],\n",
       "       [3.18915783]])"
      ]
     },
     "execution_count": 4,
     "metadata": {},
     "output_type": "execute_result"
    }
   ],
   "source": [
    "# Implementation of Batch gradient descent implementation.\n",
    "X_b = np.c_[np.ones((100, 1)), X]\n",
    "eta = 0.1\n",
    "n_iterations = 100\n",
    "m = 100\n",
    "\n",
    "theta = np.random.randn(2,1) # random initialisation.\n",
    "# print(theta)\n",
    "\n",
    "# print(float(2)/m)\n",
    "# print(X_b.T.dot(X_b.dot(theta) - y))\n",
    "\n",
    "for iterations in range(n_iterations):\n",
    "    gradients = (float(2)/m) * (X_b.T.dot(X_b.dot(theta) - y))\n",
    "    #     print(gradients)\n",
    "    theta = theta - (eta * gradients)\n",
    "    \n",
    "theta\n",
    "# Doesnt converge for me. dont know what is problem.\n",
    "# Resolution 2/m was giving out zero. float(2)/m gave proper result now gradients get non-zero values."
   ]
  },
  {
   "cell_type": "markdown",
   "metadata": {},
   "source": [
    "### Stochastic Gradient Descent\n",
    "+ Main problem with batch gradient descent is that it used the whole trainig set to compute the gradients at ever step, which makes it very slow when the training set is huge.\n",
    "+ At the opposite end *Stochastic Gradient Descent* just picks a random instance in the training set at every steps and computes the gradients based only on that single instance.\n",
    "    * This makes it faster\n",
    "    * Only one instance needs to be in memory.\n",
    "+ On other hand, due to stochastic (random) nature, this algo is less regular than Batch Gradient Descent. Instead of gently reaching the minimum, it will bounce up and down, decreasing only on average. Over time it will end up very close to the minimum, but once it reaches it will continue to bounce.\n",
    "    * Once the alogrithm stops, the parameters will be good, but not optimal.\n",
    "    * When the cost function is irregular SGD can help to jump out of a local minima, hence it has more chances of reaching global minima than Batch Gradient.\n",
    "    \n",
    "![](SGD_1.png)\n",
    "\n",
    "Therefore randomness is good to escape from local optima, but bad because it means that the algorithm can never settle at the minimum. One solution to this dilemma is to gradually reduce the learning rate. The steps start out large (which helps make quick progress and escape local minima), then get smaller and smaller, allowing the algorithm to settle at the global minimum. This process is called simulated annealing, because it resembles the process of annealing in metallurgy where molten metal is slowly cooled down. The function that determines the learning rate at each iteration is called the learning schedule. If the learning rate is reduced too quickly, you may get stuck in a local minimum, or even end up frozen halfway to the minimum. If the learning rate is reduced too slowly, you may jump around the minimum for a long time and end up with a suboptimal solution if you halt training too early."
   ]
  },
  {
   "cell_type": "code",
   "execution_count": 5,
   "metadata": {},
   "outputs": [
    {
     "data": {
      "text/plain": [
       "array([[3.96021154],\n",
       "       [3.08136567]])"
      ]
     },
     "execution_count": 5,
     "metadata": {},
     "output_type": "execute_result"
    }
   ],
   "source": [
    "n_epochs = 50\n",
    "t0, t1 = 5, 50 # learning schedule hyperparameters\n",
    "def learning_schedule(t):\n",
    "    return float(t0) / (t + t1)\n",
    "\n",
    "theta = np.random.randn(2,1) # random initialization\n",
    "for epoch in range(n_epochs):\n",
    "    for i in range(m):\n",
    "        random_index = np.random.randint(m)\n",
    "        xi = X_b[random_index:random_index+1]\n",
    "        yi = y[random_index:random_index+1]\n",
    "        gradients = 2 * xi.T.dot(xi.dot(theta) - yi)\n",
    "        eta = learning_schedule(epoch * m + i)\n",
    "        theta = theta - eta * gradients\n",
    "        \n",
    "\n",
    "# By convention we iterate by rounds of m iterations; each round is called an epoch. While the Batch\n",
    "# Gradient Descent code iterated 1,000 times through the whole training set, this code goes through the\n",
    "# training set only 50 times and reaches a fairly good solution:        \n",
    "theta"
   ]
  },
  {
   "cell_type": "code",
   "execution_count": 6,
   "metadata": {},
   "outputs": [
    {
     "name": "stderr",
     "output_type": "stream",
     "text": [
      "C:\\Users\\ishant.wankhede\\AppData\\Local\\Continuum\\anaconda2\\lib\\site-packages\\sklearn\\linear_model\\stochastic_gradient.py:117: DeprecationWarning: n_iter parameter is deprecated in 0.19 and will be removed in 0.21. Use max_iter and tol instead.\n",
      "  DeprecationWarning)\n"
     ]
    },
    {
     "data": {
      "text/plain": [
       "(array([3.99200709]), array([3.18500894]))"
      ]
     },
     "execution_count": 6,
     "metadata": {},
     "output_type": "execute_result"
    }
   ],
   "source": [
    "from sklearn.linear_model import SGDRegressor\n",
    "sgd_reg = SGDRegressor(n_iter=50, penalty=None, eta0=0.1)\n",
    "sgd_reg.fit(X, y.ravel())\n",
    "sgd_reg.intercept_, sgd_reg.coef_"
   ]
  },
  {
   "cell_type": "markdown",
   "metadata": {},
   "source": [
    "### Mini-batch Gradient Descent\n",
    "* instead of computing the gradients based on the full training set (as in Batch GD) or based on just one instance (as in Stochastic GD), Mini-batch GD computes the gradients on small random sets of instances called minibatches.\n",
    "* The main advantage of Mini-batch GD over Stochastic GD is that you can get a performance boost from hardware optimization of matrix operations, especially when using GPUs.\n",
    "\n",
    "![](SGD_Compare.png)\n",
    "![](LR_Stats.png)"
   ]
  },
  {
   "cell_type": "markdown",
   "metadata": {},
   "source": [
    "### Polynomial Regression\n",
    "* What if your data is actually more complex than a simple straight line?\n",
    "* We achieve this by adding powers to each feature as new feature and then train a linear model on this extended set of features. This technique is call polynomial regression."
   ]
  },
  {
   "cell_type": "code",
   "execution_count": 7,
   "metadata": {},
   "outputs": [
    {
     "data": {
      "image/png": "[encoded data removed]",
      "text/plain": [
       "<Figure size 432x288 with 1 Axes>"
      ]
     },
     "metadata": {},
     "output_type": "display_data"
    }
   ],
   "source": [
    "# Create some random quadratice data.\n",
    "m = 100\n",
    "X = 6 * np.random.rand(m,1) - 3\n",
    "y = 0.5 * X**2 + X + 2 + np.random.rand(m,1)\n",
    "%matplotlib inline\n",
    "import matplotlib.pyplot as plt\n",
    "plt.plot(X,y,'bo')\n",
    "plt.show()"
   ]
  },
  {
   "cell_type": "code",
   "execution_count": 8,
   "metadata": {},
   "outputs": [
    {
     "name": "stdout",
     "output_type": "stream",
     "text": [
      "[2.38689573] [2.38689573 5.69727124]\n"
     ]
    }
   ],
   "source": [
    "# Clearly linear line wont be able to fit.\n",
    "from sklearn.preprocessing import PolynomialFeatures\n",
    "poly_features = PolynomialFeatures(degree = 2, include_bias = False)\n",
    "X_poly = poly_features.fit_transform(X)\n",
    "print X[0], X_poly[0]"
   ]
  },
  {
   "cell_type": "code",
   "execution_count": 9,
   "metadata": {},
   "outputs": [
    {
     "data": {
      "text/plain": [
       "(array([2.52624608]), array([[0.98318775, 0.49238127]]))"
      ]
     },
     "execution_count": 9,
     "metadata": {},
     "output_type": "execute_result"
    }
   ],
   "source": [
    "lin_reg = LinearRegression()\n",
    "lin_reg.fit(X_poly,y)\n",
    "lin_reg.intercept_, lin_reg.coef_\n",
    "# original: y = 0.5 * x^2 + 1.0x + 2 + white_noise\n",
    "# predicted: y^ = 0.508 * x^2 + 0.98* x + 2.49"
   ]
  },
  {
   "cell_type": "code",
   "execution_count": 10,
   "metadata": {},
   "outputs": [
    {
     "data": {
      "text/plain": [
       "['target_names', 'data', 'target', 'DESCR', 'feature_names']"
      ]
     },
     "execution_count": 10,
     "metadata": {},
     "output_type": "execute_result"
    }
   ],
   "source": [
    "### Decision Boundaries\n",
    "# Let us use the Iris dataset.\n",
    "# Let us build a classifier to detect Iris-Virginica type based only on petal width feature.\n",
    "from sklearn import datasets\n",
    "iris = datasets.load_iris()\n",
    "list(iris.keys())"
   ]
  },
  {
   "cell_type": "code",
   "execution_count": 11,
   "metadata": {},
   "outputs": [
    {
     "data": {
      "text/plain": [
       "LogisticRegression(C=1.0, class_weight=None, dual=False, fit_intercept=True,\n",
       "          intercept_scaling=1, max_iter=100, multi_class='ovr', n_jobs=1,\n",
       "          penalty='l2', random_state=None, solver='liblinear', tol=0.0001,\n",
       "          verbose=0, warm_start=False)"
      ]
     },
     "execution_count": 11,
     "metadata": {},
     "output_type": "execute_result"
    }
   ],
   "source": [
    "X = iris[\"data\"][:,3:] # Petal length\n",
    "y = (iris[\"target\"]==2).astype(np.int)\n",
    "\n",
    "#Now let us train a Logit model.\n",
    "from sklearn.linear_model import LogisticRegression\n",
    "log_reg = LogisticRegression()\n",
    "log_reg.fit(X,y)\n",
    "\n",
    "# Let’s look at the model’s estimated probabilities for flowers with petal widths varying from 0 to 3 cm"
   ]
  },
  {
   "cell_type": "code",
   "execution_count": 12,
   "metadata": {},
   "outputs": [
    {
     "data": {
      "text/plain": [
       "[<matplotlib.lines.Line2D at 0x9dffa90>]"
      ]
     },
     "execution_count": 12,
     "metadata": {},
     "output_type": "execute_result"
    },
    {
     "data": {
      "image/png": "[encoded data removed]",
      "text/plain": [
       "<Figure size 432x288 with 1 Axes>"
      ]
     },
     "metadata": {},
     "output_type": "display_data"
    }
   ],
   "source": [
    "X_new = np.linspace(0,3,1000).reshape(-1,1)\n",
    "y_proba = log_reg.predict_proba(X_new)\n",
    "plt.plot(X_new, y_proba[:, 1], \"g-\", label=\"Iris-Virginica\")\n",
    "plt.plot(X_new, y_proba[:, 0], \"b--\", label=\"Not Iris-Virginica\")\n",
    "# + more Matplotlib code to make the image look pretty"
   ]
  },
  {
   "cell_type": "markdown",
   "metadata": {},
   "source": [
    "![](Logit_viriginica.png)"
   ]
  },
  {
   "cell_type": "markdown",
   "metadata": {},
   "source": [
    "![](Logit_viriginica.png)"
   ]
  },
  {
   "cell_type": "markdown",
   "metadata": {},
   "source": [
    "### Pretty Diagram\n",
    "![](logit_virginica.png)\n",
    "\n",
    "The petal width of Iris-Virginica flowers (represented by triangles) ranges from 1.4 cm to 2.5 cm, while the other iris flowers (represented by squares) generally have a smaller petal width, ranging from 0.1 cm to 1.8 cm. Notice that there is a bit of overlap. Above about 2 cm the classifier is highly confident that the flower is an Iris-Virginica (it outputs a high probability to that class), while below 1 cm it is highly confident that it is not an Iris-Virginica (high probability for the “Not Iris-Virginica” class). In between these extremes, the classifier is unsure. However, if you ask it to predict the class (using the predict() method rather than the predict_proba() method), it will return whichever class is the most likely. Therefore, there is a decision boundary at around 1.6 cm where both probabilities are equal to 50%: if the petal width is higher than 1.6 cm, the classifier will predict that the flower is an Iris-Virginica, or else it will predict that it is not (even if it is not very confident):"
   ]
  },
  {
   "cell_type": "code",
   "execution_count": 13,
   "metadata": {},
   "outputs": [
    {
     "data": {
      "text/plain": [
       "array([1, 0])"
      ]
     },
     "execution_count": 13,
     "metadata": {},
     "output_type": "execute_result"
    }
   ],
   "source": [
    "log_reg.predict([[1.7],[1.5]])"
   ]
  },
  {
   "cell_type": "markdown",
   "metadata": {},
   "source": [
    "![](logit_two_features.png)\n",
    "Figure above shows the same dataset but this time displaying two features: petal width and length. Once trained, the Logistic Regression classifier can estimate the probability that a new flower is an Iris-Virginica based on these two features.\n",
    "\n",
    "The dashed line represents the points where the model estimates a 50% probability: this is the model’s decision boundary. Note that it is a linear boundary. Each parallel line represents the points where the model outputs a specific probability, from 15 (bottom left) to 90%(top right). All the flowers beyond the top-right line have an over 90% chance of being Iris-Virginica\n",
    "according to the model.\n",
    "\n",
    "### PS : The hyperparameter controlling the regularization strength of a Scikit-Learn LogisticRegression model is not alpha (as in other linear models), but its inverse: C. The higher the value of C, the less the model is regularized."
   ]
  },
  {
   "cell_type": "code",
   "execution_count": null,
   "metadata": {},
   "outputs": [],
   "source": []
  }
 ],
 "metadata": {
  "kernelspec": {
   "display_name": "Python 2",
   "language": "python",
   "name": "python2"
  },
  "language_info": {
   "codemirror_mode": {
    "name": "ipython",
    "version": 2
   },
   "file_extension": ".py",
   "mimetype": "text/x-python",
   "name": "python",
   "nbconvert_exporter": "python",
   "pygments_lexer": "ipython2",
   "version": "2.7.15"
  }
 },
 "nbformat": 4,
 "nbformat_minor": 2
}
