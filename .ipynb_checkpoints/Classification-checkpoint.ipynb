{
 "cells": [
  {
   "cell_type": "code",
   "execution_count": 2,
   "metadata": {},
   "outputs": [
    {
     "name": "stdout",
     "output_type": "stream",
     "text": [
      "C:\\Users\\ishant.wankhede\\scikit_learn_data\n"
     ]
    }
   ],
   "source": [
    "# MNIST immage classification\n",
    "# from sklearn.datasets import fetch_mldata\n",
    "# mnist = fetch_mldata('MNIST original')\n",
    "# mnist\n",
    "from sklearn.datasets.base import get_data_home \n",
    "print (get_data_home())"
   ]
  },
  {
   "cell_type": "markdown",
   "metadata": {},
   "source": [
    "> MNIST : setting up the dataset."
   ]
  },
  {
   "cell_type": "code",
   "execution_count": 3,
   "metadata": {},
   "outputs": [
    {
     "name": "stdout",
     "output_type": "stream",
     "text": [
      "Success!\n",
      "{'DESCR': 'mldata.org dataset: mnist-original', 'data': array([[0, 0, 0, ..., 0, 0, 0],\n",
      "       [0, 0, 0, ..., 0, 0, 0],\n",
      "       [0, 0, 0, ..., 0, 0, 0],\n",
      "       ...,\n",
      "       [0, 0, 0, ..., 0, 0, 0],\n",
      "       [0, 0, 0, ..., 0, 0, 0],\n",
      "       [0, 0, 0, ..., 0, 0, 0]], dtype=uint8), 'target': array([0., 0., 0., ..., 9., 9., 9.]), 'COL_NAMES': ['label', 'data']}\n",
      "(array([[0, 0, 0, ..., 0, 0, 0],\n",
      "       [0, 0, 0, ..., 0, 0, 0],\n",
      "       [0, 0, 0, ..., 0, 0, 0],\n",
      "       ...,\n",
      "       [0, 0, 0, ..., 0, 0, 0],\n",
      "       [0, 0, 0, ..., 0, 0, 0],\n",
      "       [0, 0, 0, ..., 0, 0, 0]], dtype=uint8), array([0., 0., 0., ..., 9., 9., 9.]))\n"
     ]
    },
    {
     "data": {
      "image/png": "[encoded data removed]",
      "text/plain": [
       "<Figure size 432x288 with 1 Axes>"
      ]
     },
     "metadata": {},
     "output_type": "display_data"
    },
    {
     "name": "stdout",
     "output_type": "stream",
     "text": [
      "5.0\n"
     ]
    }
   ],
   "source": [
    "from six.moves import urllib\n",
    "from sklearn.datasets import fetch_mldata\n",
    "\n",
    "from scipy.io import loadmat\n",
    "# mnist_alternative_url = \"https://github.com/amplab/datascience-sp14/raw/master/lab7/mldata/mnist-original.mat\"\n",
    "mnist_path = \"./mnist-original.mat\"\n",
    "# response = urllib.request.urlopen(mnist_alternative_url)\n",
    "# with open(mnist_path, \"wb\") as f:\n",
    "#     content = response.read()\n",
    "#     f.write(content)\n",
    "mnist_raw = loadmat(mnist_path)\n",
    "mnist = {\n",
    "    \"data\": mnist_raw[\"data\"].T,\n",
    "    \"target\": mnist_raw[\"label\"][0],\n",
    "    \"COL_NAMES\": [\"label\", \"data\"],\n",
    "    \"DESCR\": \"mldata.org dataset: mnist-original\",\n",
    "}\n",
    "print(\"Success!\")\n",
    "\n",
    "print(mnist)\n",
    "X, y = mnist[\"data\"], mnist[\"target\"]\n",
    "print(X,y)\n",
    "X.shape, y.shape\n",
    "\n",
    "%matplotlib inline\n",
    "import matplotlib\n",
    "import matplotlib.pyplot as plt\n",
    "\n",
    "some_digit = X[36000]\n",
    "some_digit_image = some_digit.reshape(28,28)\n",
    "plt.imshow(some_digit_image, cmap = matplotlib.cm.binary, interpolation = \"nearest\")\n",
    "plt.axis(\"off\")\n",
    "plt.show()\n",
    "\n",
    "print(y[36000])\n",
    "X_train, X_test, y_train, y_test = X[:60000], X[60000:], y[:60000], y[60000:]\n",
    "import numpy as np\n",
    "shuffle_index = np.random.permutation(60000)\n",
    "X_train, y_train = X_train[shuffle_index], y_train[shuffle_index]"
   ]
  },
  {
   "cell_type": "markdown",
   "metadata": {},
   "source": [
    "## Training a Binary Classifier"
   ]
  },
  {
   "cell_type": "markdown",
   "metadata": {},
   "source": [
    "We will simplify the problem and only try to identify one digit at a time for eg 5. This '5-detector' will be and example of a binary classifier."
   ]
  },
  {
   "cell_type": "code",
   "execution_count": 4,
   "metadata": {},
   "outputs": [],
   "source": [
    "y_train_5 = (y_train == 5)\n",
    "y_test_5 = (y_test == 5)"
   ]
  },
  {
   "cell_type": "code",
   "execution_count": 5,
   "metadata": {},
   "outputs": [
    {
     "name": "stderr",
     "output_type": "stream",
     "text": [
      "C:\\Users\\ishant.wankhede\\AppData\\Local\\Continuum\\anaconda2\\lib\\site-packages\\sklearn\\linear_model\\stochastic_gradient.py:128: FutureWarning: max_iter and tol parameters have been added in <class 'sklearn.linear_model.stochastic_gradient.SGDClassifier'> in 0.19. If both are left unset, they default to max_iter=5 and tol=None. If tol is not None, max_iter defaults to max_iter=1000. From 0.21, default max_iter will be 1000, and default tol will be 1e-3.\n",
      "  \"and default tol will be 1e-3.\" % type(self), FutureWarning)\n"
     ]
    },
    {
     "data": {
      "text/plain": [
       "array([False])"
      ]
     },
     "execution_count": 5,
     "metadata": {},
     "output_type": "execute_result"
    }
   ],
   "source": [
    "from sklearn.linear_model import SGDClassifier\n",
    "sgd_clf = SGDClassifier(random_state = 42)\n",
    "sgd_clf.fit(X_train, y_train_5)\n",
    "sgd_clf.predict([some_digit])"
   ]
  },
  {
   "cell_type": "markdown",
   "metadata": {},
   "source": [
    "## Performance Measures\n",
    "\n",
    "Evaluating a classifier is often significantly trickier than evaluating a regressor.\n",
    "\n",
    ">Measuring accuracy using Cross Validation\n",
    "\n",
    "the cross_val_score() function to evaluate your SGDClassifier model using K-fold crossvalidation,\n",
    "with three folds. "
   ]
  },
  {
   "cell_type": "code",
   "execution_count": 6,
   "metadata": {},
   "outputs": [
    {
     "data": {
      "text/plain": [
       "array([0.9659 , 0.9634 , 0.95935])"
      ]
     },
     "execution_count": 6,
     "metadata": {},
     "output_type": "execute_result"
    }
   ],
   "source": [
    "from sklearn.model_selection import cross_val_score\n",
    "cross_val_score(sgd_clf, X_train, y_train_5, cv=3, scoring=\"accuracy\")"
   ]
  },
  {
   "cell_type": "markdown",
   "metadata": {},
   "source": [
    "Do you think this accuracy number is good? Let try a fit a model which predicts that \"no image is 5\""
   ]
  },
  {
   "cell_type": "code",
   "execution_count": 7,
   "metadata": {},
   "outputs": [
    {
     "data": {
      "text/plain": [
       "array([0.9109 , 0.90955, 0.9085 ])"
      ]
     },
     "execution_count": 7,
     "metadata": {},
     "output_type": "execute_result"
    }
   ],
   "source": [
    "from sklearn.base import BaseEstimator\n",
    "class Never5Classifier(BaseEstimator):\n",
    "    def fit(self, X, y=None):\n",
    "        pass\n",
    "    def predict(self, X):\n",
    "        return np.zeros((len(X), 1), dtype=bool)\n",
    "never_5_clf = Never5Classifier()\n",
    "cross_val_score(never_5_clf, X_train, y_train_5, cv=3, scoring=\"accuracy\")"
   ]
  },
  {
   "cell_type": "markdown",
   "metadata": {},
   "source": [
    "As we can see that even this has high accuracy, that means the dataset is skewed."
   ]
  },
  {
   "cell_type": "code",
   "execution_count": 8,
   "metadata": {},
   "outputs": [],
   "source": [
    "# print(len(y_train_5), sum(y_train_5))\n",
    "# (60000,5421) That means less than 10% is 5"
   ]
  },
  {
   "cell_type": "markdown",
   "metadata": {},
   "source": [
    "This demonstrates why accuracy is generally not the preferred performance measure for classifiers,\n",
    "especially when you are dealing with skewed datasets (i.e., when some classes are much more frequent\n",
    "than others)."
   ]
  },
  {
   "cell_type": "markdown",
   "metadata": {},
   "source": [
    "### Confusion Matrix https://en.wikipedia.org/wiki/Confusion_matrix"
   ]
  },
  {
   "cell_type": "code",
   "execution_count": 9,
   "metadata": {},
   "outputs": [],
   "source": [
    "from sklearn.model_selection import cross_val_predict\n",
    "y_train_pred = cross_val_predict(sgd_clf, X_train, y_train_5, cv=3)"
   ]
  },
  {
   "cell_type": "code",
   "execution_count": 10,
   "metadata": {},
   "outputs": [
    {
     "data": {
      "text/plain": [
       "array([[53947,   632],\n",
       "       [ 1595,  3826]], dtype=int64)"
      ]
     },
     "execution_count": 10,
     "metadata": {},
     "output_type": "execute_result"
    }
   ],
   "source": [
    "from sklearn.metrics import confusion_matrix\n",
    "confusion_matrix(y_train_5, y_train_pred)"
   ]
  },
  {
   "cell_type": "markdown",
   "metadata": {},
   "source": [
    "+ Precision (Accuracy of the positive prediction) : TP / (TP + FP)\n",
    "    * A trivial way to have perfect precision is to make a single (1/1 = 100%) prediction and to ensure it is correct. This is not that helpfule So precision is used with another metric.\n",
    "+ Recall (Sensitivty / True Positive Rate) : TP / (TP + FN)\n",
    "    * Which is the ratio of positive instances that are correctly detected by the classifier."
   ]
  },
  {
   "cell_type": "code",
   "execution_count": 11,
   "metadata": {},
   "outputs": [
    {
     "name": "stdout",
     "output_type": "stream",
     "text": [
      "('Precision ', 0.8582323912068192)\n",
      "('Recall ', 0.7057738424644899)\n",
      "('F1 Score ', 0.7745723251341229)\n"
     ]
    }
   ],
   "source": [
    "from sklearn.metrics import precision_score, recall_score\n",
    "print(\"Precision \", precision_score(y_train_5, y_train_pred))\n",
    "print(\"Recall \", recall_score(y_train_5, y_train_pred))\n",
    "from sklearn.metrics import f1_score\n",
    "print(\"F1 Score \", f1_score(y_train_5, y_train_pred))"
   ]
  },
  {
   "cell_type": "markdown",
   "metadata": {},
   "source": [
    "Precision Recall Tradeoff : Increasing the threshold increases the precision but decreases the recall. Decreasing the threshold increases the recall but decreases the precision. So Looking at the precision recall curve we will choose the best ones.\n",
    "\n",
    "![](precision_recall_tradeoff2.png)"
   ]
  },
  {
   "cell_type": "code",
   "execution_count": 12,
   "metadata": {},
   "outputs": [
    {
     "data": {
      "image/png": "[encoded data removed]",
      "text/plain": [
       "<Figure size 432x288 with 1 Axes>"
      ]
     },
     "metadata": {},
     "output_type": "display_data"
    }
   ],
   "source": [
    "y_scores = cross_val_predict(sgd_clf, X_train, y_train_5, cv=3,method=\"decision_function\")\n",
    "\n",
    "from sklearn.metrics import precision_recall_curve\n",
    "precisions, recalls, thresholds = precision_recall_curve(y_train_5, y_scores)\n",
    "\n",
    "def plot_precision_recall_vs_threshold(precisions, recalls, thresholds):\n",
    "    plt.plot(thresholds, precisions[:-1], \"b--\", label=\"Precision\")\n",
    "    plt.plot(thresholds, recalls[:-1], \"g-\", label=\"Recall\")\n",
    "    plt.xlabel(\"Threshold\")\n",
    "    plt.legend(loc=\"upper left\")\n",
    "    plt.ylim([0, 1])\n",
    "\n",
    "plot_precision_recall_vs_threshold(precisions, recalls, thresholds)\n",
    "plt.show()"
   ]
  },
  {
   "cell_type": "code",
   "execution_count": 13,
   "metadata": {},
   "outputs": [
    {
     "name": "stdout",
     "output_type": "stream",
     "text": [
      "0.9260911118190507\n",
      "0.5362479247371333\n"
     ]
    }
   ],
   "source": [
    "y_train_pred_90 = (y_scores > 90000)\n",
    "print(precision_score(y_train_5, y_train_pred_90))\n",
    "print(recall_score(y_train_5, y_train_pred_90))"
   ]
  },
  {
   "cell_type": "markdown",
   "metadata": {},
   "source": [
    "> If someone says lets achieve 99% Precision, You ask at what precision?"
   ]
  },
  {
   "cell_type": "markdown",
   "metadata": {},
   "source": [
    "## The ROC Curve\n",
    "The receiver operating curve is a common used with binary classifier. It is very similar to the precision / recall curve, but instead of plotting precision versus recall, the ROC plot true positive rate against the false positive rate. False positive rate is the ratio of negative instances that are incorrectly classified as positive. Also, It is equal to 1 - True Negative Rate. TNR is also specificity. Hence ROC plot sensitivity (recall / TPR) vs 1 - specificity( 1 - TNR)."
   ]
  },
  {
   "cell_type": "code",
   "execution_count": 14,
   "metadata": {},
   "outputs": [
    {
     "data": {
      "image/png": "[encoded data removed]",
      "text/plain": [
       "<Figure size 432x288 with 1 Axes>"
      ]
     },
     "metadata": {},
     "output_type": "display_data"
    }
   ],
   "source": [
    "from sklearn.metrics import roc_curve\n",
    "fpr, tpr, thresholds = roc_curve(y_train_5, y_scores)\n",
    "\n",
    "def plot_roc_curve(fpr, tpr, label=None):\n",
    "    plt.plot(fpr, tpr, linewidth=2, label=label)\n",
    "    plt.plot([0, 1], [0, 1], 'k--')\n",
    "    plt.axis([0, 1, 0, 1])\n",
    "    plt.xlabel('False Positive Rate')\n",
    "    plt.ylabel('True Positive Rate')\n",
    "\n",
    "plot_roc_curve(fpr, tpr)\n",
    "plt.show()"
   ]
  },
  {
   "cell_type": "markdown",
   "metadata": {},
   "source": [
    "Once again there is Tradeoff, The higher the recall (TPR), the more False Positives (FPR) the classifier produces. The dotted line represents the ROC of a purely random classifier. A good classifier stays as far away from the dotted line. Towards the top left corner.\n",
    "One way to compare the classifiers is to use, Area under the curve (AUC). A perfect Classifier will have a aread under the curvee equal to 1. whereas a completely random will have it as 0.5"
   ]
  },
  {
   "cell_type": "code",
   "execution_count": 15,
   "metadata": {},
   "outputs": [
    {
     "data": {
      "text/plain": [
       "0.9655590665580673"
      ]
     },
     "execution_count": 15,
     "metadata": {},
     "output_type": "execute_result"
    }
   ],
   "source": [
    "from sklearn.metrics import roc_auc_score\n",
    "roc_auc_score(y_train_5, y_scores)"
   ]
  },
  {
   "cell_type": "markdown",
   "metadata": {},
   "source": [
    "#### Tip: Since the ROC curve is similar to the Precision/Recall curve. How do we decide which ones to use?\n",
    "+ As a rule of thumb, You should prefer the PR Curve whenever the positive class is rare or when you care more about the false positive than false negatives, and the ROC Curve Otherwise. \n"
   ]
  },
  {
   "cell_type": "code",
   "execution_count": 16,
   "metadata": {},
   "outputs": [
    {
     "data": {
      "text/plain": [
       "array([[1. , 0. ],\n",
       "       [1. , 0. ],\n",
       "       [1. , 0. ],\n",
       "       ...,\n",
       "       [0.1, 0.9],\n",
       "       [1. , 0. ],\n",
       "       [1. , 0. ]])"
      ]
     },
     "execution_count": 16,
     "metadata": {},
     "output_type": "execute_result"
    }
   ],
   "source": [
    "#Comparing RandomForestClassifier and SGDClassifier\n",
    "from sklearn.ensemble import RandomForestClassifier\n",
    "forest_clf = RandomForestClassifier(random_state = 42)\n",
    "y_probas_forest = cross_val_predict(forest_clf, X_train, y_train_5, cv = 3, method = \"predict_proba\")\n",
    "y_probas_forest"
   ]
  },
  {
   "cell_type": "code",
   "execution_count": 17,
   "metadata": {},
   "outputs": [
    {
     "name": "stdout",
     "output_type": "stream",
     "text": [
      "0.9932904840354027\n"
     ]
    },
    {
     "name": "stderr",
     "output_type": "stream",
     "text": [
      "C:\\Users\\ishant.wankhede\\AppData\\Local\\Continuum\\anaconda2\\lib\\site-packages\\matplotlib\\legend.py:641: UserWarning: Unrecognized location \"bottom right\". Falling back on \"best\"; valid locations are\n",
      "\tright\n",
      "\tcenter left\n",
      "\tupper right\n",
      "\tlower right\n",
      "\tbest\n",
      "\tcenter\n",
      "\tlower left\n",
      "\tcenter right\n",
      "\tupper left\n",
      "\tupper center\n",
      "\tlower center\n",
      "\n",
      "  % (loc, '\\n\\t'.join(self.codes)))\n"
     ]
    },
    {
     "data": {
      "image/png": "[encoded data removed]",
      "text/plain": [
       "<Figure size 432x288 with 1 Axes>"
      ]
     },
     "metadata": {},
     "output_type": "display_data"
    }
   ],
   "source": [
    "y_scores_forest = y_probas_forest[:,1] # score = proba of positive class\n",
    "fpr_forest, tpr_forest, threshold_forest = roc_curve(y_train_5, y_scores_forest)\n",
    "print(roc_auc_score(y_train_5, y_scores_forest))\n",
    "plt.plot(fpr, tpr, \"b:\", label=\"SGD\")\n",
    "plot_roc_curve(fpr_forest, tpr_forest, \"Random Forest\")\n",
    "plt.legend(loc=\"bottom right\")\n",
    "plt.show()"
   ]
  },
  {
   "cell_type": "markdown",
   "metadata": {},
   "source": [
    "### Multiclassification\n",
    "+ Binary classification distinguish between two classes, whereas multiclass classification can distinguish between two or more classes.\n",
    "+ Some classfiers (RF and Naive Bayes) are capable of handling multiple classes directly. Others (Such as SVM or Linear Classifiers) are strictly binary classifiers. However there are various strategies that you can use to perform multiclass classification using multiple binary classifiers.\n",
    "+ For Eg. One way to create a system that can classify an image into 10 classes is to train 10 different binary classifiers, One for each digit. Then when want to get the decision score from each of the classifier for that image and select the class whose classifier output the highest score. This is called One-Versus-All strategy or one-versus-rest.\n",
    "+ Another strategy is to train a binary classifier for every pair of digits : one to distinguish 0s and 1s, another to distinguish 0s and 2s and so on. This is called one-vs-one strategy. If there are n classes then each classifier will be pair with another, hence N*(N-1)/2 classifiers will be trained. For MNIST problem this means trainin 10* 9/2 classifiers. When you want to classifiy and image, run through all 45 classifiers and see which ones is predicted on majority.\n",
    "    * The main advantage of OvO is that each classifier needs to trained on the part of the training set for the two classes that it must distinguish.\n",
    "    * Some classifiers scale poorly with the size of training set, so for these algorithms OvO is prefered, since it is faster to train many small classfiers than to train few classifier on large training sets. For most binary classification algorithms, however, OvA is prefered."
   ]
  },
  {
   "cell_type": "code",
   "execution_count": 18,
   "metadata": {},
   "outputs": [
    {
     "data": {
      "text/plain": [
       "(array([[-105268.5734187 , -347002.39367848, -366308.96132038,\n",
       "         -124904.42094908, -374658.10946566, -131610.6536148 ,\n",
       "         -584545.49433195, -508656.95232529, -512128.82396781,\n",
       "         -622673.54689022]]), 'Max Score for class:', 0)"
      ]
     },
     "execution_count": 18,
     "metadata": {},
     "output_type": "execute_result"
    }
   ],
   "source": [
    "# Scikit-Learn detects when you try to use a binary classification algorithm for a multiclass classification\n",
    "# task, and it automatically runs OvA (except for SVM classifiers for which it uses OvO).\n",
    "# the SGDClassifier:\n",
    "sgd_clf.fit(X_train, y_train) # y_train, not y_train_5\n",
    "sgd_clf.predict([some_digit])\n",
    "some_digit_scores = sgd_clf.decision_function([some_digit])\n",
    "some_digit_scores, \"Max Score for class:\",np.argmax(some_digit_scores)\n",
    "# sgd_clf.classes_, sgd_clf.classes[5]"
   ]
  },
  {
   "cell_type": "code",
   "execution_count": 19,
   "metadata": {},
   "outputs": [
    {
     "data": {
      "text/plain": [
       "45"
      ]
     },
     "execution_count": 19,
     "metadata": {},
     "output_type": "execute_result"
    }
   ],
   "source": [
    "# If you want to specify which classifier to be used OvO vs OvA. \n",
    "# Simply create an instance and pass a binary classifier to its constructor.\n",
    "from sklearn.multiclass import OneVsOneClassifier\n",
    "ovo_clf = OneVsOneClassifier(SGDClassifier(random_state = 42))\n",
    "ovo_clf.fit(X_train, y_train)\n",
    "ovo_clf.predict([some_digit])\n",
    "len(ovo_clf.estimators_)"
   ]
  },
  {
   "cell_type": "code",
   "execution_count": 20,
   "metadata": {},
   "outputs": [
    {
     "name": "stdout",
     "output_type": "stream",
     "text": [
      "('predition', array([5.]))\n",
      "('probabilities', array([[0.2, 0. , 0. , 0.1, 0. , 0.7, 0. , 0. , 0. , 0. ]]))\n"
     ]
    }
   ],
   "source": [
    "forest_clf.fit(X_train, y_train)\n",
    "print('predition', forest_clf.predict([some_digit]))\n",
    "#this time OvA or OvO was not run since RF can directly classifiy instances into multiple classes. You can predict_proba()\n",
    "print ('probabilities', forest_clf.predict_proba([some_digit]))"
   ]
  },
  {
   "cell_type": "code",
   "execution_count": 21,
   "metadata": {},
   "outputs": [
    {
     "data": {
      "text/plain": [
       "array([0.8044891 , 0.85864293, 0.86683002])"
      ]
     },
     "execution_count": 21,
     "metadata": {},
     "output_type": "execute_result"
    }
   ],
   "source": [
    "# Let us evaluate the classifier using cross validation. using cross_val_score().\n",
    "cross_val_score(sgd_clf, X_train, y_train, cv = 3, scoring = \"accuracy\")"
   ]
  },
  {
   "cell_type": "code",
   "execution_count": 22,
   "metadata": {},
   "outputs": [
    {
     "data": {
      "text/plain": [
       "array([0.9110178 , 0.90919546, 0.90938641])"
      ]
     },
     "execution_count": 22,
     "metadata": {},
     "output_type": "execute_result"
    }
   ],
   "source": [
    "from sklearn.preprocessing import StandardScaler\n",
    "scaler = StandardScaler()\n",
    "X_train_scaled = scaler.fit_transform(X_train.astype(np.float64))\n",
    "cross_val_score(sgd_clf, X_train_scaled, y_train, cv=3, scoring=\"accuracy\")\n"
   ]
  },
  {
   "cell_type": "markdown",
   "metadata": {},
   "source": [
    "### Error Analysis\n",
    "Looking at the confusion matrix"
   ]
  },
  {
   "cell_type": "code",
   "execution_count": 23,
   "metadata": {},
   "outputs": [
    {
     "data": {
      "image/png": "[encoded data removed]",
      "text/plain": [
       "<Figure size 288x288 with 1 Axes>"
      ]
     },
     "metadata": {},
     "output_type": "display_data"
    }
   ],
   "source": [
    "y_train_pred = cross_val_predict(sgd_clf, X_train_scaled, y_train, cv = 3)\n",
    "confus_mtx = confusion_matrix(y_train,y_train_pred)\n",
    "confus_mtx\n",
    "# Looking at the image representation of the confusion matrix using matplotlib matshow function.\n",
    "plt.matshow(confus_mtx, cmap = plt.cm.gray)\n",
    "plt.show()\n",
    "# The confusion matrix looks good since most the images are mainly on the diagonal."
   ]
  },
  {
   "cell_type": "code",
   "execution_count": 24,
   "metadata": {},
   "outputs": [
    {
     "data": {
      "image/png": "[encoded data removed]",
      "text/plain": [
       "<Figure size 288x288 with 1 Axes>"
      ]
     },
     "metadata": {},
     "output_type": "display_data"
    }
   ],
   "source": [
    "# Let us focus on the error plots. divide each value with in confusion matrix with the number of images in the corresponding class.\n",
    "# So we can compare the error rates instead of absolute numbers.\n",
    "row_sums = confus_mtx.sum(axis = 1, keepdims = True)\n",
    "norm_conf_mx = confus_mtx.astype(float) / row_sums\n",
    "# lets fill the diagonal elements with zeros to keep only errors.\n",
    "np.fill_diagonal(norm_conf_mx, 0)\n",
    "\n",
    "plt.matshow(norm_conf_mx, cmap = plt.cm.gray)\n",
    "plt.show()"
   ]
  },
  {
   "cell_type": "code",
   "execution_count": 25,
   "metadata": {},
   "outputs": [
    {
     "data": {
      "image/png": "[encoded data removed]",
      "text/plain": [
       "<Figure size 576x576 with 4 Axes>"
      ]
     },
     "metadata": {},
     "output_type": "display_data"
    }
   ],
   "source": [
    "# EXTRA\n",
    "def plot_digits(instances, images_per_row=10, **options):\n",
    "    size = 28\n",
    "    images_per_row = min(len(instances), images_per_row)\n",
    "    images = [instance.reshape(size,size) for instance in instances]\n",
    "    n_rows = (len(instances) - 1) // images_per_row + 1\n",
    "    row_images = []\n",
    "    n_empty = n_rows * images_per_row - len(instances)\n",
    "    images.append(np.zeros((size, size * n_empty)))\n",
    "    for row in range(n_rows):\n",
    "        rimages = images[row * images_per_row : (row + 1) * images_per_row]\n",
    "        row_images.append(np.concatenate(rimages, axis=1))\n",
    "    image = np.concatenate(row_images, axis=0)\n",
    "    plt.imshow(image, cmap = matplotlib.cm.binary, **options)\n",
    "    plt.axis(\"off\")\n",
    "cl_a, cl_b = 3, 5\n",
    "X_aa = X_train[(y_train == cl_a) & (y_train_pred == cl_a)]\n",
    "X_ab = X_train[(y_train == cl_a) & (y_train_pred == cl_b)]\n",
    "X_ba = X_train[(y_train == cl_b) & (y_train_pred == cl_a)]\n",
    "X_bb = X_train[(y_train == cl_b) & (y_train_pred == cl_b)]\n",
    "plt.figure(figsize=(8,8))\n",
    "plt.subplot(221)\n",
    "plot_digits(X_aa[:25], images_per_row=5)\n",
    "plt.subplot(222)\n",
    "plot_digits(X_ab[:25], images_per_row=5)\n",
    "plt.subplot(223)\n",
    "plot_digits(X_ba[:25], images_per_row=5)\n",
    "plt.subplot(224)\n",
    "plot_digits(X_bb[:25], images_per_row=5)\n",
    "plt.show()"
   ]
  },
  {
   "cell_type": "markdown",
   "metadata": {},
   "source": [
    "### Multilabel Classification\n",
    "Until now each instance has been assigned a single output class. In some cases you may want your classifier to output multiple classes for each instance. For eg, consider a face recognition classifier: what should it do if recognises several people in the same picture? Then it should attached one label per person. Say it is trained to classify three labels then, for picture it may give output as [1,0,1] ie 1 and 3 are present and 2 is absent. A classification system that output multiple binary labels is called a multilabel classification. "
   ]
  },
  {
   "cell_type": "code",
   "execution_count": 26,
   "metadata": {},
   "outputs": [
    {
     "data": {
      "text/plain": [
       "KNeighborsClassifier(algorithm='auto', leaf_size=30, metric='minkowski',\n",
       "           metric_params=None, n_jobs=1, n_neighbors=5, p=2,\n",
       "           weights='uniform')"
      ]
     },
     "execution_count": 26,
     "metadata": {},
     "output_type": "execute_result"
    }
   ],
   "source": [
    "from sklearn.neighbors import KNeighborsClassifier\n",
    "# Supports multilabel classification.\n",
    "y_train_large = (y_train >= 7)\n",
    "y_train_odd = (y_train %2 == 1)\n",
    "y_multilabel = np.c_[y_train_large,y_train_odd]\n",
    "# y_multilabel\n",
    "knn_clf = KNeighborsClassifier()\n",
    "knn_clf.fit(X_train, y_multilabel)"
   ]
  },
  {
   "cell_type": "code",
   "execution_count": 27,
   "metadata": {},
   "outputs": [
    {
     "data": {
      "text/plain": [
       "array([[False,  True]])"
      ]
     },
     "execution_count": 27,
     "metadata": {},
     "output_type": "execute_result"
    }
   ],
   "source": [
    "knn_clf.predict([some_digit])"
   ]
  },
  {
   "cell_type": "code",
   "execution_count": 28,
   "metadata": {},
   "outputs": [],
   "source": [
    "# y_train_knn_pred = cross_val_predict(knn_clf,X_train,y_train,cv=3)\n",
    "# f1_score(y_train, y_train_knn_pred, average = \"macro\")"
   ]
  },
  {
   "cell_type": "code",
   "execution_count": 32,
   "metadata": {},
   "outputs": [],
   "source": [
    "import numpy.random as rnd\n",
    "noise = rnd.randint(0, 100, (len(X_train), 784))\n",
    "noise2 = rnd.randint(0, 100, (len(X_test), 784))\n",
    "X_train_mod = X_train + noise\n",
    "X_test_mod = X_test + noise2\n",
    "y_train_mod = X_train\n",
    "y_test_mod = X_test"
   ]
  },
  {
   "cell_type": "code",
   "execution_count": 36,
   "metadata": {},
   "outputs": [
    {
     "data": {
      "image/png": "[encoded data removed]",
      "text/plain": [
       "<Figure size 432x288 with 1 Axes>"
      ]
     },
     "metadata": {},
     "output_type": "display_data"
    }
   ],
   "source": [
    "knn_clf.fit(X_train_mod, y_train_mod)\n",
    "clean_digit = knn_clf.predict([X_test_mod[12]])\n",
    "plot_digits(clean_digit)"
   ]
  },
  {
   "cell_type": "markdown",
   "metadata": {},
   "source": [
    "### Excercise"
   ]
  },
  {
   "cell_type": "code",
   "execution_count": null,
   "metadata": {},
   "outputs": [],
   "source": []
  }
 ],
 "metadata": {
  "kernelspec": {
   "display_name": "Python 2",
   "language": "python",
   "name": "python2"
  },
  "language_info": {
   "codemirror_mode": {
    "name": "ipython",
    "version": 2
   },
   "file_extension": ".py",
   "mimetype": "text/x-python",
   "name": "python",
   "nbconvert_exporter": "python",
   "pygments_lexer": "ipython2",
   "version": "2.7.15"
  }
 },
 "nbformat": 4,
 "nbformat_minor": 2
}
