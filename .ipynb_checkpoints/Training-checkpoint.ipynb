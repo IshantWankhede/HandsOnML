{
 "cells": [
  {
   "cell_type": "markdown",
   "metadata": {},
   "source": [
    "## Training models\n",
    "\n",
    "In this chapter we will start with linear regression, We will discuss two different ways to train it,\n",
    "+ Using a direct \"closed-form\" equation that directly computes the model paramters that best fit the model to training set. (i.e. , the model parameters that minimize the cost function over the training set.)\n",
    "+ Using a iterative optimization approach, called Gradient Descent, that gradually tweaks the model parameters to minimize the cost function over the training set,eventually converging to the same set of parameters as the first method.\n",
    "\n",
    "Next we will look at Polynomial Regression, a more complex model that can fit nonlinear datasets.\n",
    "\n",
    "Finally we will look at two more models that are commonly used for classification, Logistic Regression and Softmax Regression."
   ]
  },
  {
   "cell_type": "markdown",
   "metadata": {},
   "source": [
    "### Linear Regression\n",
    "\n",
    "Vectorised form : y_hat = h_theta(X) = theta_transpose[1,n] * X[n,1].\n",
    "Training the model means setting the parameters(theta). For this we need a measure of how well (or poorly) the model fits the training data. RMSE or MSE can be minimized to find the best thetha.\n",
    "<!-- \\begin{equation*}\n",
    "\\left( \\sum_{k=1}^n a_k b_k \\right)^2 \\leq \\left( \\sum_{k=1}^n a_k^2 \\right) \\left( \\sum_{k=1}^n b_k^2 \\right)\n",
    "\\end{equation*} \n",
    "-->\n",
    "\n",
    "The Normal Equation\n",
    "theta_hat = (X_transpose * X)^-1 * (X_transpose) * y"
   ]
  },
  {
   "cell_type": "code",
   "execution_count": 1,
   "metadata": {
    "scrolled": true
   },
   "outputs": [
    {
     "data": {
      "image/png": "[encoded data removed]",
      "text/plain": [
       "<Figure size 432x288 with 1 Axes>"
      ]
     },
     "metadata": {},
     "output_type": "display_data"
    }
   ],
   "source": [
    "# Let us generate some linear looking data\n",
    "import numpy as np\n",
    "X = 2 * np.random.rand(100,1)\n",
    "y = 4 + 3*X + np.random.randn(100,1)\n",
    "\n",
    "%matplotlib inline\n",
    "import matplotlib.pyplot as plt\n",
    "plt.plot(X,y,'bo')\n",
    "plt.show()"
   ]
  },
  {
   "cell_type": "code",
   "execution_count": 2,
   "metadata": {},
   "outputs": [
    {
     "name": "stdout",
     "output_type": "stream",
     "text": [
      "[[3.87215759]\n",
      " [3.12934088]]\n"
     ]
    },
    {
     "data": {
      "image/png": "[encoded data removed]",
      "text/plain": [
       "<Figure size 432x288 with 1 Axes>"
      ]
     },
     "metadata": {},
     "output_type": "display_data"
    }
   ],
   "source": [
    "# Using the Normal equation finding theta_hat\n",
    "X_b = np.c_[np.ones((100, 1)), X] # add x0 = 1 to each instance\n",
    "theta_best = np.linalg.inv(X_b.T.dot(X_b)).dot(X_b.T).dot(y)\n",
    "# Function generated was y = 4 + 3X + White Noise.\n",
    "# theta_best : [4.23524939], [2.8365066 ]\n",
    "print(theta_best)\n",
    "\n",
    "# In order to make predicts now,\n",
    "X_new = np.array([[0],[2]])\n",
    "X_new_b = np.c_[np.ones((2,1)), X_new] # add x0 = 1 to each instance\n",
    "y_predict = X_new_b.dot(theta_best)\n",
    "y_predict\n",
    "\n",
    "plt.plot(X_new, y_predict, \"r-\")\n",
    "plt.plot(X, y, \"b.\")\n",
    "plt.axis([0, 2, 0, 15])\n",
    "plt.show()"
   ]
  },
  {
   "cell_type": "code",
   "execution_count": 3,
   "metadata": {},
   "outputs": [
    {
     "data": {
      "text/plain": [
       "array([[ 3.87215759],\n",
       "       [10.13083934]])"
      ]
     },
     "execution_count": 3,
     "metadata": {},
     "output_type": "execute_result"
    }
   ],
   "source": [
    "# Equivalent sci-kit learn\n",
    "from sklearn.linear_model import LinearRegression\n",
    "lin_reg = LinearRegression()\n",
    "lin_reg.fit(X, y)\n",
    "lin_reg.intercept_, lin_reg.coef_\n",
    "lin_reg.predict(X_new)"
   ]
  },
  {
   "cell_type": "markdown",
   "metadata": {},
   "source": [
    "### Time Complexity\n",
    "The normal equation computes the inverse of X_transpose * X which is an n X n matrix (n number of features). The computational complexity of inverting such a matrix is O(n^2.4) to O(n^3). If you double the number of features the training time increases 8 times.\n",
    "On the positive side, this equation is linear with regards to the number of instances in the training set (it is O(m)), so it handles large data efficiently provided it has sufficient memory.\n",
    "After training is done predictions are faster.\n",
    "\n",
    "Now we will look at very different ways to train a Linear Regression model, better suited for cases\n",
    "where there are a large number of features, or too many training instances to fit in memory.\n",
    "\n",
    "### Gradient Descent\n",
    "Gradient descent is a very generic optimization problem to a wide range of problems. The idea is to tweak the parameters iteratively till you minimize the cost function. It measures the local gradient of the error function with regards to the parameter vector θ, and it goes in the direction of descending gradient. Once the gradient is zero, you have reached a minimum!\n",
    "\n",
    "You start by filing θ with random values (this is called random initialization), and then you improve it gradually, taking one baby step at a time, each step attempting to decrease the cost function (e.g the MSE), until the algorithm converges to a minimum.\n",
    "\n",
    "![](GD_start.png)\n",
    "\n",
    "An important parameter in Gradient Descent is the size of the steps, determined by the learning rate hyperparameter. If the learning rate is too small, then the algorithm will have to go through many iterations to converge, which will take a long time\n",
    "\n",
    "![](GD_slow.png)\n",
    "\n",
    "On the other hand, if the learning rate is too high, you might jump across the valley and end up on the other side, possibly even higher up than you were before. This might make the algorithm diverge, with larger and larger values, failing to find a good solution\n",
    "\n",
    "![](GD_fast.png)\n",
    "\n",
    "Finally, not all cost functions look like nice regular bowls. There may be holes, ridges, plateaus, and all\n",
    "sorts of irregular terrains, making convergence to the minimum very difficult. Two main challenges with Gradient Descent: if the random initialization starts the algorithm on the left, then it will converge to a local minimum, which is not as good as the global minimum. If it starts on the right, then it will take a very long time to cross the plateau, and if you stop too early you will never reach the global minimum.\n",
    "\n",
    "![](GD_fast.png)\n",
    "\n",
    "Fortunately, the MSE cost function for a Linear Regression model happens to be a convex function, which\n",
    "means that if you pick any two points on the curve, the line segment joining them never crosses the curve.\n",
    "This implies that there are no local minima, just one global minimum. It is also a continuous function with\n",
    "a slope that never changes abruptly. These two facts have a great consequence: Gradient Descent is\n",
    "guaranteed to approach arbitrarily close the global minimum (if you wait long enough and if the learning\n",
    "rate is not too high).\n",
    "In fact, the cost function has the shape of a bowl, but it can be an elongated bowl if the features have very\n",
    "different scales."
   ]
  },
  {
   "cell_type": "code",
   "execution_count": 4,
   "metadata": {},
   "outputs": [
    {
     "data": {
      "text/plain": [
       "array([[3.80599604],\n",
       "       [3.18263092]])"
      ]
     },
     "execution_count": 4,
     "metadata": {},
     "output_type": "execute_result"
    }
   ],
   "source": [
    "# Implementation of Batch gradient descent implementation.\n",
    "X_b = np.c_[np.ones((100, 1)), X]\n",
    "eta = 0.1\n",
    "n_iterations = 100\n",
    "m = 100\n",
    "\n",
    "theta = np.random.randn(2,1) # random initialisation.\n",
    "# print(theta)\n",
    "\n",
    "# print(float(2)/m)\n",
    "# print(X_b.T.dot(X_b.dot(theta) - y))\n",
    "\n",
    "for iterations in range(n_iterations):\n",
    "    gradients = (float(2)/m) * (X_b.T.dot(X_b.dot(theta) - y))\n",
    "    #     print(gradients)\n",
    "    theta = theta - (eta * gradients)\n",
    "    \n",
    "theta\n",
    "# Doesnt converge for me. dont know what is problem.\n",
    "# Resolution 2/m was giving out zero. float(2)/m gave proper result now gradients get non-zero values."
   ]
  },
  {
   "attachments": {},
   "cell_type": "markdown",
   "metadata": {},
   "source": [
    "### Stochastic Gradient Descent\n",
    "+ Main problem with batch gradient descent is that it used the whole trainig set to compute the gradients at ever step, which makes it very slow when the training set is huge.\n",
    "+ At the opposite end *Stochastic Gradient Descent* just picks a random instance in the training set at every steps and computes the gradients based only on that single instance.\n",
    "    * This makes it faster\n",
    "    * Only one instance needs to be in memory.\n",
    "+ On other hand, due to stochastic (random) nature, this algo is less regular than Batch Gradient Descent. Instead of gently reaching the minimum, it will bounce up and down, decreasing only on average. Over time it will end up very close to the minimum, but once it reaches it will continue to bounce.\n",
    "    * Once the alogrithm stops, the parameters will be good, but not optimal.\n",
    "    * When the cost function is irregular SGD can help to jump out of a local minima, hence it has more chances of reaching global minima than Batch Gradient.\n",
    "    \n",
    "![](SGD_1.png)\n",
    "\n",
    "Therefore randomness is good to escape from local optima, but bad because it means that the algorithm can never settle at the minimum. One solution to this dilemma is to gradually reduce the learning rate. The steps start out large (which helps make quick progress and escape local minima), then get smaller and smaller, allowing the algorithm to settle at the global minimum. This process is called simulated annealing, because it resembles the process of annealing in metallurgy where molten metal is slowly cooled down. The function that determines the learning rate at each iteration is called the learning schedule. If the learning rate is reduced too quickly, you may get stuck in a local minimum, or even end up frozen halfway to the minimum. If the learning rate is reduced too slowly, you may jump around the minimum for a long time and end up with a suboptimal solution if you halt training too early."
   ]
  },
  {
   "cell_type": "code",
   "execution_count": 5,
   "metadata": {},
   "outputs": [
    {
     "data": {
      "text/plain": [
       "array([[3.81199569],\n",
       "       [3.15716273]])"
      ]
     },
     "execution_count": 5,
     "metadata": {},
     "output_type": "execute_result"
    }
   ],
   "source": [
    "n_epochs = 50\n",
    "t0, t1 = 5, 50 # learning schedule hyperparameters\n",
    "def learning_schedule(t):\n",
    "    return float(t0) / (t + t1)\n",
    "\n",
    "theta = np.random.randn(2,1) # random initialization\n",
    "for epoch in range(n_epochs):\n",
    "    for i in range(m):\n",
    "        random_index = np.random.randint(m)\n",
    "        xi = X_b[random_index:random_index+1]\n",
    "        yi = y[random_index:random_index+1]\n",
    "        gradients = 2 * xi.T.dot(xi.dot(theta) - yi)\n",
    "        eta = learning_schedule(epoch * m + i)\n",
    "        theta = theta - eta * gradients\n",
    "        \n",
    "\n",
    "# By convention we iterate by rounds of m iterations; each round is called an epoch. While the Batch\n",
    "# Gradient Descent code iterated 1,000 times through the whole training set, this code goes through the\n",
    "# training set only 50 times and reaches a fairly good solution:        \n",
    "theta"
   ]
  },
  {
   "cell_type": "code",
   "execution_count": 6,
   "metadata": {},
   "outputs": [
    {
     "name": "stderr",
     "output_type": "stream",
     "text": [
      "C:\\Users\\ishant.wankhede\\AppData\\Local\\Continuum\\anaconda2\\lib\\site-packages\\sklearn\\linear_model\\stochastic_gradient.py:117: DeprecationWarning: n_iter parameter is deprecated in 0.19 and will be removed in 0.21. Use max_iter and tol instead.\n",
      "  DeprecationWarning)\n"
     ]
    },
    {
     "data": {
      "text/plain": [
       "(array([3.84166451]), array([3.10437888]))"
      ]
     },
     "execution_count": 6,
     "metadata": {},
     "output_type": "execute_result"
    }
   ],
   "source": [
    "from sklearn.linear_model import SGDRegressor\n",
    "sgd_reg = SGDRegressor(n_iter=50, penalty=None, eta0=0.1)\n",
    "sgd_reg.fit(X, y.ravel())\n",
    "sgd_reg.intercept_, sgd_reg.coef_"
   ]
  },
  {
   "cell_type": "code",
   "execution_count": null,
   "metadata": {},
   "outputs": [],
   "source": []
  }
 ],
 "metadata": {
  "kernelspec": {
   "display_name": "Python 2",
   "language": "python",
   "name": "python2"
  },
  "language_info": {
   "codemirror_mode": {
    "name": "ipython",
    "version": 2
   },
   "file_extension": ".py",
   "mimetype": "text/x-python",
   "name": "python",
   "nbconvert_exporter": "python",
   "pygments_lexer": "ipython2",
   "version": "2.7.15"
  }
 },
 "nbformat": 4,
 "nbformat_minor": 2
}
